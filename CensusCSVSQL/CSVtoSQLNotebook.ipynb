{
 "cells": [
  {
   "cell_type": "code",
   "execution_count": 27,
   "metadata": {},
   "outputs": [],
   "source": [
    "import pandas as pd\n",
    "from pandas import DataFrame\n",
    "from sqlalchemy import create_engine\n",
    "import psycopg2"
   ]
  },
  {
   "cell_type": "code",
   "execution_count": 28,
   "metadata": {},
   "outputs": [
    {
     "data": {
      "text/html": [
       "<div>\n",
       "<style scoped>\n",
       "    .dataframe tbody tr th:only-of-type {\n",
       "        vertical-align: middle;\n",
       "    }\n",
       "\n",
       "    .dataframe tbody tr th {\n",
       "        vertical-align: top;\n",
       "    }\n",
       "\n",
       "    .dataframe thead th {\n",
       "        text-align: right;\n",
       "    }\n",
       "</style>\n",
       "<table border=\"1\" class=\"dataframe\">\n",
       "  <thead>\n",
       "    <tr style=\"text-align: right;\">\n",
       "      <th></th>\n",
       "      <th>ranking</th>\n",
       "      <th>metroarea</th>\n",
       "      <th>city</th>\n",
       "      <th>metropolitanpopulation</th>\n",
       "      <th>averageincome</th>\n",
       "      <th>studio</th>\n",
       "      <th>onebedroom</th>\n",
       "      <th>twobedroom</th>\n",
       "    </tr>\n",
       "  </thead>\n",
       "  <tbody>\n",
       "    <tr>\n",
       "      <th>0</th>\n",
       "      <td>1</td>\n",
       "      <td>New York-Newark, NY-NJ-CT-PA</td>\n",
       "      <td>New York, NY</td>\n",
       "      <td>23,689,255</td>\n",
       "      <td>72,403.80</td>\n",
       "      <td>1,937.00</td>\n",
       "      <td>2,151.00</td>\n",
       "      <td>2,562.00</td>\n",
       "    </tr>\n",
       "    <tr>\n",
       "      <th>1</th>\n",
       "      <td>2</td>\n",
       "      <td>Los Angeles-Long Beach, CA</td>\n",
       "      <td>Los Angeles, CA</td>\n",
       "      <td>18,688,022</td>\n",
       "      <td>52,214.80</td>\n",
       "      <td>1,151.00</td>\n",
       "      <td>1,370.00</td>\n",
       "      <td>1,760.00</td>\n",
       "    </tr>\n",
       "    <tr>\n",
       "      <th>2</th>\n",
       "      <td>3</td>\n",
       "      <td>Chicago-Naperville, IL-IN-WI</td>\n",
       "      <td>Chicago, IL</td>\n",
       "      <td>9,882,634</td>\n",
       "      <td>60,880.20</td>\n",
       "      <td>940</td>\n",
       "      <td>1,091.00</td>\n",
       "      <td>1,283.00</td>\n",
       "    </tr>\n",
       "    <tr>\n",
       "      <th>3</th>\n",
       "      <td>4</td>\n",
       "      <td>Washington-Baltimore-Arlington, DC-MD-VA-WV-PA</td>\n",
       "      <td>Washington, DC</td>\n",
       "      <td>9,665,892</td>\n",
       "      <td>68,187.25</td>\n",
       "      <td>1,295.00</td>\n",
       "      <td>1,360.00</td>\n",
       "      <td>1,571.00</td>\n",
       "    </tr>\n",
       "    <tr>\n",
       "      <th>4</th>\n",
       "      <td>5</td>\n",
       "      <td>San Jose-San Francisco-Oakland, CA</td>\n",
       "      <td>San Francisco, CA</td>\n",
       "      <td>8,751,807</td>\n",
       "      <td>87,138.56</td>\n",
       "      <td>2,023.00</td>\n",
       "      <td>2,486.00</td>\n",
       "      <td>3,123.00</td>\n",
       "    </tr>\n",
       "  </tbody>\n",
       "</table>\n",
       "</div>"
      ],
      "text/plain": [
       "   ranking                                       metroarea               city  \\\n",
       "0        1                    New York-Newark, NY-NJ-CT-PA       New York, NY   \n",
       "1        2                      Los Angeles-Long Beach, CA    Los Angeles, CA   \n",
       "2        3                    Chicago-Naperville, IL-IN-WI        Chicago, IL   \n",
       "3        4  Washington-Baltimore-Arlington, DC-MD-VA-WV-PA     Washington, DC   \n",
       "4        5              San Jose-San Francisco-Oakland, CA  San Francisco, CA   \n",
       "\n",
       "  metropolitanpopulation averageincome    studio onebedroom twobedroom  \n",
       "0             23,689,255     72,403.80  1,937.00   2,151.00   2,562.00  \n",
       "1             18,688,022     52,214.80  1,151.00   1,370.00   1,760.00  \n",
       "2              9,882,634     60,880.20       940   1,091.00   1,283.00  \n",
       "3              9,665,892     68,187.25  1,295.00   1,360.00   1,571.00  \n",
       "4              8,751,807     87,138.56  2,023.00   2,486.00   3,123.00  "
      ]
     },
     "execution_count": 28,
     "metadata": {},
     "output_type": "execute_result"
    }
   ],
   "source": [
    "population_income_housing = pd.read_csv(\"../resources/CensusDataCitiesRevised.csv\")\n",
    "\n",
    "population_income_housing.head()"
   ]
  },
  {
   "cell_type": "code",
   "execution_count": 29,
   "metadata": {},
   "outputs": [],
   "source": [
    "rds_connection_string = \"postgres:WorldWT*2018@localhost:5432/city_statistics_db\"\n",
    "engine = create_engine(f\"postgresql://{rds_connection_string}\")"
   ]
  },
  {
   "cell_type": "code",
   "execution_count": 30,
   "metadata": {},
   "outputs": [
    {
     "data": {
      "text/plain": [
       "['citystatistics']"
      ]
     },
     "execution_count": 30,
     "metadata": {},
     "output_type": "execute_result"
    }
   ],
   "source": [
    "engine.table_names()"
   ]
  },
  {
   "cell_type": "code",
   "execution_count": 31,
   "metadata": {},
   "outputs": [],
   "source": [
    "population_income_housing.to_sql(name=\"citystatistics\", con=engine, if_exists=\"append\", index=False)"
   ]
  },
  {
   "cell_type": "code",
   "execution_count": 32,
   "metadata": {},
   "outputs": [
    {
     "data": {
      "text/html": [
       "<div>\n",
       "<style scoped>\n",
       "    .dataframe tbody tr th:only-of-type {\n",
       "        vertical-align: middle;\n",
       "    }\n",
       "\n",
       "    .dataframe tbody tr th {\n",
       "        vertical-align: top;\n",
       "    }\n",
       "\n",
       "    .dataframe thead th {\n",
       "        text-align: right;\n",
       "    }\n",
       "</style>\n",
       "<table border=\"1\" class=\"dataframe\">\n",
       "  <thead>\n",
       "    <tr style=\"text-align: right;\">\n",
       "      <th></th>\n",
       "      <th>ranking</th>\n",
       "      <th>metroarea</th>\n",
       "      <th>city</th>\n",
       "      <th>metropolitanpopulation</th>\n",
       "      <th>averageincome</th>\n",
       "      <th>studio</th>\n",
       "      <th>onebedroom</th>\n",
       "      <th>twobedroom</th>\n",
       "    </tr>\n",
       "  </thead>\n",
       "  <tbody>\n",
       "    <tr>\n",
       "      <th>0</th>\n",
       "      <td>1</td>\n",
       "      <td>New York-Newark, NY-NJ-CT-PA</td>\n",
       "      <td>New York, NY</td>\n",
       "      <td>23,689,255</td>\n",
       "      <td>72,403.80</td>\n",
       "      <td>1,937.00</td>\n",
       "      <td>2,151.00</td>\n",
       "      <td>2,562.00</td>\n",
       "    </tr>\n",
       "    <tr>\n",
       "      <th>1</th>\n",
       "      <td>2</td>\n",
       "      <td>Los Angeles-Long Beach, CA</td>\n",
       "      <td>Los Angeles, CA</td>\n",
       "      <td>18,688,022</td>\n",
       "      <td>52,214.80</td>\n",
       "      <td>1,151.00</td>\n",
       "      <td>1,370.00</td>\n",
       "      <td>1,760.00</td>\n",
       "    </tr>\n",
       "    <tr>\n",
       "      <th>2</th>\n",
       "      <td>3</td>\n",
       "      <td>Chicago-Naperville, IL-IN-WI</td>\n",
       "      <td>Chicago, IL</td>\n",
       "      <td>9,882,634</td>\n",
       "      <td>60,880.20</td>\n",
       "      <td>940</td>\n",
       "      <td>1,091.00</td>\n",
       "      <td>1,283.00</td>\n",
       "    </tr>\n",
       "    <tr>\n",
       "      <th>3</th>\n",
       "      <td>4</td>\n",
       "      <td>Washington-Baltimore-Arlington, DC-MD-VA-WV-PA</td>\n",
       "      <td>Washington, DC</td>\n",
       "      <td>9,665,892</td>\n",
       "      <td>68,187.25</td>\n",
       "      <td>1,295.00</td>\n",
       "      <td>1,360.00</td>\n",
       "      <td>1,571.00</td>\n",
       "    </tr>\n",
       "    <tr>\n",
       "      <th>4</th>\n",
       "      <td>5</td>\n",
       "      <td>San Jose-San Francisco-Oakland, CA</td>\n",
       "      <td>San Francisco, CA</td>\n",
       "      <td>8,751,807</td>\n",
       "      <td>87,138.56</td>\n",
       "      <td>2,023.00</td>\n",
       "      <td>2,486.00</td>\n",
       "      <td>3,123.00</td>\n",
       "    </tr>\n",
       "  </tbody>\n",
       "</table>\n",
       "</div>"
      ],
      "text/plain": [
       "   ranking                                       metroarea               city  \\\n",
       "0        1                    New York-Newark, NY-NJ-CT-PA       New York, NY   \n",
       "1        2                      Los Angeles-Long Beach, CA    Los Angeles, CA   \n",
       "2        3                    Chicago-Naperville, IL-IN-WI        Chicago, IL   \n",
       "3        4  Washington-Baltimore-Arlington, DC-MD-VA-WV-PA     Washington, DC   \n",
       "4        5              San Jose-San Francisco-Oakland, CA  San Francisco, CA   \n",
       "\n",
       "  metropolitanpopulation averageincome    studio onebedroom twobedroom  \n",
       "0             23,689,255     72,403.80  1,937.00   2,151.00   2,562.00  \n",
       "1             18,688,022     52,214.80  1,151.00   1,370.00   1,760.00  \n",
       "2              9,882,634     60,880.20       940   1,091.00   1,283.00  \n",
       "3              9,665,892     68,187.25  1,295.00   1,360.00   1,571.00  \n",
       "4              8,751,807     87,138.56  2,023.00   2,486.00   3,123.00  "
      ]
     },
     "execution_count": 32,
     "metadata": {},
     "output_type": "execute_result"
    }
   ],
   "source": [
    "pd.read_sql_query(\"select * from citystatistics\", con=engine).head()"
   ]
  }
 ],
 "metadata": {
  "kernelspec": {
   "display_name": "Python [conda env:pandas] *",
   "language": "python",
   "name": "conda-env-pandas-py"
  },
  "language_info": {
   "codemirror_mode": {
    "name": "ipython",
    "version": 3
   },
   "file_extension": ".py",
   "mimetype": "text/x-python",
   "name": "python",
   "nbconvert_exporter": "python",
   "pygments_lexer": "ipython3",
   "version": "3.6.8"
  }
 },
 "nbformat": 4,
 "nbformat_minor": 2
}
