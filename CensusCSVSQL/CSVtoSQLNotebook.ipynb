{
 "cells": [
  {
   "cell_type": "code",
   "execution_count": null,
   "metadata": {},
   "outputs": [],
   "source": [
    "import pandas as pd\n",
    "from pandas import DataFrame\n",
    "from sqlalchemy import create_engine\n",
    "import psycopg2"
   ]
  },
  {
   "cell_type": "code",
   "execution_count": null,
   "metadata": {},
   "outputs": [],
   "source": [
    "population_income_housing = pd.read_csv(\"../resources/CensusDataCitiesRevised.csv\")\n",
    "\n",
    "population_income_housing.head()"
   ]
  },
  {
   "cell_type": "code",
   "execution_count": null,
   "metadata": {},
   "outputs": [],
   "source": [
    "import os\n",
    "rds_connection_string = os.environ.get(\"DATABASE_URL\",'') \n",
    "engine = create_engine(f\"postgres://{rds_connection_string}\")"
   ]
  },
  {
   "cell_type": "code",
   "execution_count": null,
   "metadata": {},
   "outputs": [],
   "source": [
    "engine.table_names()"
   ]
  },
  {
   "cell_type": "code",
   "execution_count": null,
   "metadata": {},
   "outputs": [],
   "source": [
    "engine.execute(\"\"\"\n",
    "    DROP TABLE IF EXISTS citystatistics CASCADE;\n",
    "\n",
    "    CREATE TABLE citystatistics (\n",
    "        ranking INT primary key,\n",
    "        metroarea VARCHAR(50) NOT NULL,\n",
    "        city VARCHAR(50) NOT NULL,\n",
    "        metropolitanpopulation VARCHAR(50) NOT NULL,\n",
    "        averageincome VARCHAR(50) NOT NULL,\n",
    "        studio VARCHAR(50) NOT NULL,\n",
    "        onebedroom VARCHAR(50) NOT NULL,\n",
    "        twobedroom VARCHAR(50) NOT NULL\n",
    "        );\n",
    "\"\"\")"
   ]
  },
  {
   "cell_type": "code",
   "execution_count": null,
   "metadata": {},
   "outputs": [],
   "source": [
    "population_income_housing.to_sql(name=\"citystatistics\", con=engine, if_exists=\"append\", index=False)"
   ]
  },
  {
   "cell_type": "code",
   "execution_count": null,
   "metadata": {},
   "outputs": [],
   "source": [
    "pd.read_sql_query(\"select * from citystatistics\", con=engine).head()"
   ]
  },
  {
   "cell_type": "code",
   "execution_count": null,
   "metadata": {},
   "outputs": [],
   "source": [
    "population_income_housing.count()"
   ]
  }
 ],
 "metadata": {
  "kernelspec": {
   "display_name": "Python 3",
   "language": "python",
   "name": "python3"
  },
  "language_info": {
   "codemirror_mode": {
    "name": "ipython",
    "version": 3
   },
   "file_extension": ".py",
   "mimetype": "text/x-python",
   "name": "python",
   "nbconvert_exporter": "python",
   "pygments_lexer": "ipython3",
   "version": "3.6.8"
  }
 },
 "nbformat": 4,
 "nbformat_minor": 2
}
